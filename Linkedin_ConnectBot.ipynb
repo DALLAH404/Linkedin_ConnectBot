{
 "cells": [
  {
   "cell_type": "code",
   "execution_count": 73,
   "metadata": {},
   "outputs": [],
   "source": [
    "import selenium\n",
    "from selenium import webdriver\n",
    "import time \n",
    "\n",
    "\n",
    "PATH = \"C:\\Program Files (x86)\\chromedriver.exe\"   ## Put your geckodriver path \n",
    "driver = webdriver.Chrome(PATH)\n",
    "driver.get('https://www.linkedin.com')\n",
    "                ## sign in ##\n",
    "Email = driver.find_element_by_xpath('//*[@id=\"session_key\"]')\n",
    "Email.send_keys('') ## Put your Email\n",
    "Password = driver.find_element_by_xpath('//*[@id=\"session_password\"]')\n",
    "Password.send_keys('') ## Put your Password\n",
    "SignInButt = driver.find_element_by_xpath('//*[@id=\"main-content\"]/section[1]/div/div/form/button')\n",
    "SignInButt.click()  ## click on sign  in button \n",
    "\n",
    "## Put the link of your search page with your filters\n",
    "driver.get('')\n",
    "\n",
    "for page in range(10): ## for 10 pages of search result \n",
    "\n",
    "    PageButtons = driver.find_elements_by_tag_name(\"button\")\n",
    "    ConnectButtons = [button for button in PageButtons if button.text == \"Connect\"] ## store connect buttons\n",
    "    \n",
    "    for button in ConnectButtons : ## for each button \n",
    "        driver.execute_script(\"arguments[0].click();\", button) ## click on Connect button \n",
    "        time.sleep(2) ## sleep 2 secs\n",
    "        send = driver.find_element_by_xpath(\"//button[@aria-label='Send now']\")\n",
    "        driver.execute_script(\"arguments[0].click();\", send) ## click on Send button \n",
    "        close = driver.find_element_by_xpath(\"//button[@aria-label='Dismiss']\")\n",
    "        driver.execute_script(\"arguments[0].click();\", close) ## click on X sign to close \n",
    "        time.sleep(2) ## sleep 2 secs after each iteration \n",
    "        \n",
    "    nextt = driver.find_element_by_xpath(\"//button[@aria-label='Next']\")\n",
    "    driver.execute_script(\"arguments[0].click();\", nextt) ## click on Next button \n",
    "    time.sleep(5) ## wait 5 secs until the page loading "
   ]
  },
  {
   "cell_type": "code",
   "execution_count": 74,
   "metadata": {},
   "outputs": [],
   "source": []
  }
 ],
 "metadata": {
  "kernelspec": {
   "display_name": "Python 3",
   "language": "python",
   "name": "python3"
  },
  "language_info": {
   "codemirror_mode": {
    "name": "ipython",
    "version": 3
   },
   "file_extension": ".py",
   "mimetype": "text/x-python",
   "name": "python",
   "nbconvert_exporter": "python",
   "pygments_lexer": "ipython3",
   "version": "3.8.5"
  }
 },
 "nbformat": 4,
 "nbformat_minor": 4
}
